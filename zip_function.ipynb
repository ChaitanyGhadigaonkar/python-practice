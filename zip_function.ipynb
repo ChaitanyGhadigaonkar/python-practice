{
 "cells": [
  {
   "cell_type": "markdown",
   "id": "db75cc7d-417f-4300-aa66-717ab8016906",
   "metadata": {},
   "source": [
    "### zip function\n",
    "\n",
    "- Returns an iterator of tuples, where the i-th tuple contains the i-th element from each of the argument sequences or iterables. |\n",
    "- The iterator stops when the shortest input iterable is exhausted. With a single iterable argument, it returns an iterator of 1-tuples. With no arguments, it returns an empty iterator. "
   ]
  },
  {
   "cell_type": "markdown",
   "id": "4f89221c-d998-4bad-ad30-aeefb3ccb7d9",
   "metadata": {},
   "source": [
    " - zip() can accept any type of iterable, such as files, lists, tuples, dictionaries, sets,"
   ]
  },
  {
   "cell_type": "code",
   "execution_count": 2,
   "id": "07907c7a-272a-4f52-9fe9-ea16e452880c",
   "metadata": {},
   "outputs": [
    {
     "name": "stdout",
     "output_type": "stream",
     "text": [
      "<zip object at 0x000001F05319BEC0>\n",
      "[(1, 'a'), (2, 'b'), (3, 'c')]\n"
     ]
    }
   ],
   "source": [
    "numbers = [1, 2, 3, 4, 5]\n",
    "letters = ['a', 'b', 'c']\n",
    "\n",
    "zipped = zip(numbers, letters)\n",
    "\n",
    "print(zipped)\n",
    "print(list(zipped))"
   ]
  },
  {
   "cell_type": "markdown",
   "id": "5071e0b1-4e5c-4d81-9cb1-4dd6906cd00a",
   "metadata": {},
   "source": [
    "- If you’re working with sequences like lists, tuples, or strings, then your iterables are guaranteed to be evaluated from left to right."
   ]
  },
  {
   "cell_type": "code",
   "execution_count": 3,
   "id": "015e67b7-2f24-4325-bbd6-69324c50a861",
   "metadata": {},
   "outputs": [
    {
     "name": "stdout",
     "output_type": "stream",
     "text": [
      "<zip object at 0x000001F05319BE40>\n",
      "[(1, 'a'), (2, 'b'), (3, 'c')]\n"
     ]
    }
   ],
   "source": [
    "numbers = [1, 2, 3, 4, 5]\n",
    "letters = ['a', 'b', 'c']\n",
    "\n",
    "zipped = zip(numbers, letters)\n",
    "\n",
    "print(zipped)\n",
    "print(list(zipped))"
   ]
  },
  {
   "cell_type": "markdown",
   "id": "bf9158fc-2ae9-43dc-84bd-e7631b79515a",
   "metadata": {},
   "source": [
    "- for other types of iterables (like sets), you might see some weird results"
   ]
  },
  {
   "cell_type": "code",
   "execution_count": 4,
   "id": "3bab4bcf-72d9-4fc0-8a99-a18b238dc0f0",
   "metadata": {},
   "outputs": [
    {
     "data": {
      "text/plain": [
       "[(1, 'd'), (2, 'b'), (3, 'a'), (4, 'c')]"
      ]
     },
     "execution_count": 4,
     "metadata": {},
     "output_type": "execute_result"
    }
   ],
   "source": [
    "s1 = { 3, 4, 1, 2,  }\n",
    "s2 = {  'b', 'c', 'a', 'd' }\n",
    "\n",
    "list(zip(s1, s2))\n"
   ]
  },
  {
   "cell_type": "markdown",
   "id": "bb595fe7-95e9-4d7c-a6f1-af6b9e4c6b9a",
   "metadata": {},
   "source": [
    " ### passing no arguments"
   ]
  },
  {
   "cell_type": "code",
   "execution_count": 5,
   "id": "17bbe180-32ba-4047-84c8-70615f707bb0",
   "metadata": {},
   "outputs": [
    {
     "data": {
      "text/plain": [
       "[]"
      ]
     },
     "execution_count": 5,
     "metadata": {},
     "output_type": "execute_result"
    }
   ],
   "source": [
    "list(zip())"
   ]
  },
  {
   "cell_type": "markdown",
   "id": "4177f369-4e84-4b15-8e50-f791be5c1c6c",
   "metadata": {},
   "source": [
    "### passing one arguments"
   ]
  },
  {
   "cell_type": "code",
   "execution_count": 6,
   "id": "8928bfd1-0828-46b9-b7c0-bde40eec95f8",
   "metadata": {},
   "outputs": [
    {
     "name": "stdout",
     "output_type": "stream",
     "text": [
      "[(1,), (2,), (3,)]\n"
     ]
    }
   ],
   "source": [
    "a = [1, 2,3]\n",
    "zipped = zip(a)\n",
    "print(list(zipped))"
   ]
  },
  {
   "cell_type": "markdown",
   "id": "2d51fd0a-bb67-4026-97f9-316a124c7920",
   "metadata": {},
   "source": [
    "### with three iterators"
   ]
  },
  {
   "cell_type": "code",
   "execution_count": 7,
   "id": "df2f51ba-140d-4acf-a3b2-fbb58c3f08a1",
   "metadata": {},
   "outputs": [
    {
     "name": "stdout",
     "output_type": "stream",
     "text": [
      "[(1, 'a', 1.2), (2, 'b', 2.4), (3, 'c', 4.4), (4, 'd', 6.6)]\n"
     ]
    }
   ],
   "source": [
    "a = [1, 2 , 3, 4]\n",
    "b = ['a', 'b', 'c', 'd']\n",
    "c = [1.2, 2.4, 4.4, 6.6]\n",
    "print(list(zip(a, b, c)))"
   ]
  },
  {
   "cell_type": "markdown",
   "id": "0b912177-2971-4a95-862c-2432f9d694c1",
   "metadata": {},
   "source": [
    "### passing unequal length iterators"
   ]
  },
  {
   "cell_type": "markdown",
   "id": "d309e416-7753-4efb-a46b-77f222b97251",
   "metadata": {
    "scrolled": true
   },
   "source": [
    "### zip_longest"
   ]
  },
  {
   "cell_type": "code",
   "execution_count": 8,
   "id": "83795086-dcf9-43e4-8152-39eda08e0c03",
   "metadata": {},
   "outputs": [],
   "source": [
    "from itertools import zip_longest"
   ]
  },
  {
   "cell_type": "code",
   "execution_count": 9,
   "id": "ad1b373d-ab1e-4f59-9904-c3c06d0a69ee",
   "metadata": {},
   "outputs": [],
   "source": [
    "letters = [\"a\", \"b\", \"c\"]"
   ]
  },
  {
   "cell_type": "code",
   "execution_count": 10,
   "id": "62bf72f9-af30-4a37-bcd9-2acc6b400345",
   "metadata": {},
   "outputs": [],
   "source": [
    "longest = range(5)"
   ]
  },
  {
   "cell_type": "code",
   "execution_count": 11,
   "id": "4b732ee1-d6b9-4c45-97dd-9dd880b87d01",
   "metadata": {},
   "outputs": [],
   "source": [
    "zipped = zip_longest(numbers, letters, longest, fillvalue=\"?\")"
   ]
  },
  {
   "cell_type": "code",
   "execution_count": 12,
   "id": "90f1ae23-ea30-4345-8213-4a8c2dd6562a",
   "metadata": {},
   "outputs": [
    {
     "data": {
      "text/plain": [
       "[(1, 'a', 0), (2, 'b', 1), (3, 'c', 2), (4, '?', 3), (5, '?', 4)]"
      ]
     },
     "execution_count": 12,
     "metadata": {},
     "output_type": "execute_result"
    }
   ],
   "source": [
    "list(zipped)"
   ]
  },
  {
   "cell_type": "markdown",
   "id": "869500c2-6e64-4fcb-9c7e-1d1ee2f91dbf",
   "metadata": {},
   "source": [
    "### uneqal length lists"
   ]
  },
  {
   "cell_type": "code",
   "execution_count": 13,
   "id": "c22f5744-ae83-4a90-b1b2-377fb16ac7cc",
   "metadata": {},
   "outputs": [
    {
     "data": {
      "text/plain": [
       "[(0, 0), (1, 1), (2, 2), (3, 3), (4, 4)]"
      ]
     },
     "execution_count": 13,
     "metadata": {},
     "output_type": "execute_result"
    }
   ],
   "source": [
    "list(zip(range(5), range(100)))"
   ]
  },
  {
   "cell_type": "markdown",
   "id": "81e1a796-9c55-4b0b-8c78-b6f48887e819",
   "metadata": {},
   "source": [
    "### strict mode option "
   ]
  },
  {
   "cell_type": "code",
   "execution_count": 16,
   "id": "c52e48de-ff77-49c2-9550-5716beb52619",
   "metadata": {},
   "outputs": [
    {
     "ename": "ValueError",
     "evalue": "zip() argument 2 is longer than argument 1",
     "output_type": "error",
     "traceback": [
      "\u001b[1;31m---------------------------------------------------------------------------\u001b[0m",
      "\u001b[1;31mValueError\u001b[0m                                Traceback (most recent call last)",
      "Cell \u001b[1;32mIn[16], line 1\u001b[0m\n\u001b[1;32m----> 1\u001b[0m \u001b[38;5;28mlist\u001b[39m(\u001b[38;5;28mzip\u001b[39m(\u001b[38;5;28mrange\u001b[39m(\u001b[38;5;241m5\u001b[39m), \u001b[38;5;28mrange\u001b[39m(\u001b[38;5;241m100\u001b[39m), strict\u001b[38;5;241m=\u001b[39m\u001b[38;5;28;01mTrue\u001b[39;00m))\n",
      "\u001b[1;31mValueError\u001b[0m: zip() argument 2 is longer than argument 1"
     ]
    }
   ],
   "source": [
    "list(zip(range(5), range(100), strict=True)) \n",
    "# This new feature of zip() is useful when you need to make sure that the function only accepts iterables of equal length"
   ]
  },
  {
   "cell_type": "code",
   "execution_count": 17,
   "id": "6f5aa681",
   "metadata": {},
   "outputs": [
    {
     "data": {
      "text/plain": [
       "[(0, 0), (1, 1), (2, 2), (3, 3), (4, 4)]"
      ]
     },
     "execution_count": 17,
     "metadata": {},
     "output_type": "execute_result"
    }
   ],
   "source": [
    "list(zip(range(5), range(100), strict=False))"
   ]
  },
  {
   "cell_type": "markdown",
   "id": "512bc510",
   "metadata": {},
   "source": [
    "### traversing the list parallel"
   ]
  },
  {
   "cell_type": "code",
   "execution_count": 18,
   "id": "98587e92",
   "metadata": {},
   "outputs": [
    {
     "name": "stdout",
     "output_type": "stream",
     "text": [
      "1 a\n",
      "2 b\n",
      "3 c\n",
      "4 d\n"
     ]
    }
   ],
   "source": [
    "numbers = [1, 2, 3, 4]\n",
    "letters = ['a', 'b', 'c', 'd']\n",
    "\n",
    "for number, letter in zip(numbers, letters):\n",
    "    print(number, letter)"
   ]
  },
  {
   "cell_type": "markdown",
   "id": "37f419a7",
   "metadata": {},
   "source": [
    "### Traversing Dictionaries in Parallel"
   ]
  },
  {
   "cell_type": "code",
   "execution_count": 24,
   "id": "bdb41212",
   "metadata": {},
   "outputs": [
    {
     "name": "stdout",
     "output_type": "stream",
     "text": [
      "dict_items([('name', 'chinmay'), ('age', 22), ('job', 'Frontend Developer')])\n",
      "dict_items([('name', 'Chaitany'), ('age', 22), ('job', 'Full Stack Developer')])\n",
      "[(('name', 'chinmay'), ('name', 'Chaitany')), (('age', 22), ('age', 22)), (('job', 'Frontend Developer'), ('job', 'Full Stack Developer'))]\n",
      "name --> chinmay\n",
      "name --> Chaitany\n",
      "age --> 22\n",
      "age --> 22\n",
      "job --> Frontend Developer\n",
      "job --> Full Stack Developer\n"
     ]
    }
   ],
   "source": [
    "dict1 =  { \n",
    "    \"name\": \"chinmay\",\n",
    "    \"age\": 22,\n",
    "    \"job\": \"Frontend Developer\"\n",
    "}\n",
    "\n",
    "\n",
    "dict2 =  { \n",
    "    \"name\": \"Chaitany\",\n",
    "    \"age\": 22,\n",
    "    \"job\": \"Full Stack Developer\"\n",
    "}\n",
    "\n",
    "print(dict1.items())\n",
    "print(dict2.items())\n",
    "\n",
    "zipped = zip(dict1.items(), dict2.items())\n",
    "\n",
    "print(list(zipped))\n",
    "\n",
    "\n",
    "for (k1, v1), (k2, v2) in zip(dict1.items(), dict2.items()):\n",
    "    print(f\"{k1} --> {v1}\")\n",
    "    print(f\"{k2} --> {v2}\")"
   ]
  },
  {
   "cell_type": "markdown",
   "id": "5807488d",
   "metadata": {},
   "source": [
    "### unzipping "
   ]
  },
  {
   "cell_type": "code",
   "execution_count": null,
   "id": "ca8606bf",
   "metadata": {},
   "outputs": [
    {
     "data": {
      "text/plain": [
       "((1, 2, 3, 4), ('a', 'b', 'c', 'd'))"
      ]
     },
     "execution_count": 28,
     "metadata": {},
     "output_type": "execute_result"
    }
   ],
   "source": [
    "pairs = [(1, \"a\"), (2, \"b\"), (3, \"c\"), (4, \"d\")]\n",
    "\n",
    "numbers, letters = zip(*pairs)\n",
    "\n",
    "numbers, letters"
   ]
  },
  {
   "cell_type": "markdown",
   "id": "a9b0410f",
   "metadata": {},
   "source": [
    "### sorting "
   ]
  },
  {
   "cell_type": "code",
   "execution_count": 32,
   "id": "42c4f090",
   "metadata": {},
   "outputs": [
    {
     "name": "stdout",
     "output_type": "stream",
     "text": [
      "[('a', 4), ('b', 2), ('c', 1), ('d', 3)]\n",
      "[(1, 'c'), (2, 'b'), (3, 'd'), (4, 'a')]\n"
     ]
    }
   ],
   "source": [
    "letters = [\"b\", \"a\", \"d\", \"c\"]\n",
    "numbers = [2, 4, 3, 1]\n",
    "data1 = list(zip(letters, numbers))\n",
    "data1.sort() # sorting by letters\n",
    "print(data1)\n",
    "\n",
    "\n",
    "data2 = list(zip(numbers, letters))\n",
    "data2.sort()\n",
    "print(data2)"
   ]
  },
  {
   "cell_type": "markdown",
   "id": "fc2be591",
   "metadata": {},
   "source": [
    "### Calculating in Pairs"
   ]
  },
  {
   "cell_type": "code",
   "execution_count": 33,
   "id": "df675048",
   "metadata": {},
   "outputs": [
    {
     "name": "stdout",
     "output_type": "stream",
     "text": [
      "Total profit: 5200.0\n",
      "Total profit: 5100.0\n",
      "Total profit: 4800.0\n"
     ]
    }
   ],
   "source": [
    "total_sales = [52000.00, 51000.00, 48000.00]\n",
    "prod_cost = [46800.00, 45900.00, 43200.00]\n",
    "\n",
    "for sales, costs in zip(total_sales, prod_cost):\n",
    "    profit = sales - costs\n",
    "    print(f\"Total profit: {profit}\")"
   ]
  },
  {
   "cell_type": "code",
   "execution_count": null,
   "id": "e94773bc",
   "metadata": {},
   "outputs": [],
   "source": []
  }
 ],
 "metadata": {
  "kernelspec": {
   "display_name": "base",
   "language": "python",
   "name": "python3"
  },
  "language_info": {
   "codemirror_mode": {
    "name": "ipython",
    "version": 3
   },
   "file_extension": ".py",
   "mimetype": "text/x-python",
   "name": "python",
   "nbconvert_exporter": "python",
   "pygments_lexer": "ipython3",
   "version": "3.12.7"
  }
 },
 "nbformat": 4,
 "nbformat_minor": 5
}
